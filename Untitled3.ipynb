{
  "nbformat": 4,
  "nbformat_minor": 0,
  "metadata": {
    "colab": {
      "provenance": [],
      "include_colab_link": true
    },
    "kernelspec": {
      "name": "python3",
      "display_name": "Python 3"
    },
    "language_info": {
      "name": "python"
    }
  },
  "cells": [
    {
      "cell_type": "markdown",
      "metadata": {
        "id": "view-in-github",
        "colab_type": "text"
      },
      "source": [
        "<a href=\"https://colab.research.google.com/github/Arsha22/python/blob/main/Untitled3.ipynb\" target=\"_parent\"><img src=\"https://colab.research.google.com/assets/colab-badge.svg\" alt=\"Open In Colab\"/></a>"
      ]
    },
    {
      "cell_type": "code",
      "execution_count": 33,
      "metadata": {
        "id": "UmxrQ60WZODY"
      },
      "outputs": [],
      "source": [
        "import numpy as np\n",
        "import pandas as pd\n",
        "import requests\n",
        "from io import BytesIO\n",
        "import pickle\n",
        "from collections import OrderedDict\n",
        "import os\n",
        "from os import path\n",
        "import ast\n",
        "import random\n",
        "from matplotlib.pyplot import imshow\n",
        "import matplotlib.pyplot as plt\n",
        "\n",
        "# import PIL for image manipulation\n",
        "from PIL import Image, ImageDraw, ImageOps\n",
        "\n",
        "# import machine learning libraries\n",
        "from sklearn.model_selection import train_test_split\n",
        "from sklearn.metrics import accuracy_score\n",
        "\n",
        "# import pytorch\n",
        "import torch\n",
        "from torch import nn\n",
        "from torch import optim\n",
        "import torch.nn.functional as F\n",
        "from torchvision import datasets, transforms\n",
        "import tensorflow as tf\n",
        "import tqdm\n",
        "from multiprocessing import Pool\n",
        "from multiprocessing import cpu_count\n",
        "image_path = './celeb'\n",
        "sketch_path = './celeb_sketch_temp'\n",
        "def burnV2(image, mask):\n",
        "    return 255 - cv2.divide(255-image, 255-mask, scale=256)\n",
        "def dodgeV2(image, mask):\n",
        "    return cv2.divide(image, 255-mask, scale=256)\n",
        "def img_to_sketch(img_names):\n",
        "    for img in tqdm.tqdm_notebook(img_names):\n",
        "        img_rgb = cv2.imread(image_path+'/'+img)\n",
        "        img_gray = cv2.cvtColor(img_rgb, cv2.COLOR_BGR2GRAY)\n",
        "        img_gray_inv = 255 - img_gray\n",
        "        img_blur = cv2.GaussianBlur(img_gray_inv, ksize=(21, 21),\n",
        "                            sigmaX=0, sigmaY=0)\n",
        "        img_blend = dodgeV2(img_gray, img_blur)\n",
        "        matplotlib.image.imsave(sketch_path+'/'+img, img_blend,cmap='gray')\n",
        "        #plt.imshow( img_blend,cmap='gray')\n",
        "        #plt.show()\n",
        "        img_names = os.listdir('./celeb')\n",
        "        img_rgb = cv2.imread('mypic.jpg')\n",
        "        img_gray = cv2.cvtColor(img_rgb, cv2.COLOR_BGR2GRAY)\n",
        "        img_gray_inv = 255 - img_gray\n",
        "        img_blur = cv2.GaussianBlur(img_gray_inv, ksize=(21, 21),sigmaX=0, sigmaY=0)\n",
        "        img_blend = dodgeV2(img_gray, img_blur)\n",
        "        matplotlib.image.imsave('mypic_s.jpg', img_blend,cmap='gray')\n",
        "        print(\"[INFO] launching pool using {} processes...\".format(8))\n",
        "        pool = Pool(processes=8)\n",
        "        pool.map(img_to_sketch(img_names))\n",
        "        # close the pool and wait for all processes to finish\n",
        "        print(\"[INFO] waiting for processes to finish...\")\n",
        "        pool.close()\n",
        "        pool.join()\n",
        "        print(\"[INFO] multiprocessing complete\")\n",
        "        # img_rgb = cv2.imread(\"./jpg/i049sa-mn.jpg\")\n",
        "        img_gray = cv2.cvtColor(img_rgb, cv2.COLOR_BGR2GRAY)\n",
        "        img_gray_inv = 255 - img_gray\n",
        "        img_blur = cv2.GaussianBlur(img_gray_inv, ksize=(21, 21),sigmaX=0, sigmaY=0)\n",
        "        img_blend = dodgeV2(img_gray, img_blur)\n",
        "        plt.imshow( img_blend,cmap='gray')\n",
        "        plt.show()\n"
      ]
    },
    {
      "cell_type": "code",
      "source": [
        "categories = ['cannon','eye', 'face', 'nail', 'pear','piano','radio','spider','star','sword']\n",
        "label_dict = {0:'cannon',1:'eye', 2:'face', 3:'nail', 4:'pear',\n",
        "                      5:'piano',6:'radio', 7:'spider', 8:'star', 9:'sword'}"
      ],
      "metadata": {
        "id": "H6NxPo-qZjSY"
      },
      "execution_count": 34,
      "outputs": []
    },
    {
      "cell_type": "code",
      "source": [
        "def convert_to_PIL(drawing, width = 256, height = 256):\n",
        "\n",
        "\n",
        "    # initialize empty (white) PIL image\n",
        "    pil_img = Image.new('RGB', (width, height), 'white')\n",
        "    pixels = pil_img.load()\n",
        "\n",
        "    draw = ImageDraw.Draw(pil_img)\n",
        "\n",
        "    # draw strokes as lines\n",
        "    for x,y in drawing:\n",
        "        for i in range(1, len(x)):\n",
        "            draw.line((x[i-1], y[i-1], x[i], y[i]), fill=0)\n",
        "\n",
        "    return pil_img"
      ],
      "metadata": {
        "id": "xMT7cPB7ZnAR"
      },
      "execution_count": 29,
      "outputs": []
    },
    {
      "cell_type": "code",
      "source": [
        "def convert_to_np_raw(drawing, width = 256, height = 256):\n",
        "\n",
        "    # initialize empty numpy array\n",
        "    img = np.zeros((28, 28))\n",
        "\n",
        "    # create a PIL image out of drawing\n",
        "    pil_img = convert_to_PIL(drawing)\n",
        "\n",
        "    #resize to 28,28\n",
        "    pil_img.thumbnail((28,28), Image.ANTIALIAS)\n",
        "\n",
        "    pil_img = pil_img.convert('RGB')\n",
        "    pixels = pil_img.load()\n",
        "\n",
        "    # fill in numpy array with pixel values\n",
        "    for i in range(0, 28):\n",
        "        for j in range(0, 28):\n",
        "            img[i, j] = 1 - pixels[j, i][0] / 255\n",
        "\n",
        "    return img"
      ],
      "metadata": {
        "id": "sczMhnfTZvCy"
      },
      "execution_count": 35,
      "outputs": []
    },
    {
      "cell_type": "markdown",
      "source": [],
      "metadata": {
        "id": "UFa9FivgintS"
      }
    }
  ]
}